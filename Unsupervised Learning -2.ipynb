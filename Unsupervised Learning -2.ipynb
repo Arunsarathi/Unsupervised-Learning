{
 "cells": [
  {
   "cell_type": "code",
   "execution_count": 1,
   "metadata": {},
   "outputs": [],
   "source": [
    "import pandas as pd\n",
    "import numpy as np\n",
    "\n",
    "import matplotlib.pyplot as plt\n",
    "import seaborn as sns\n",
    "%matplotlib inline"
   ]
  },
  {
   "cell_type": "code",
   "execution_count": 2,
   "metadata": {},
   "outputs": [],
   "source": [
    "df = pd.read_csv('jewellery.csv')"
   ]
  },
  {
   "cell_type": "code",
   "execution_count": 3,
   "metadata": {},
   "outputs": [
    {
     "data": {
      "text/html": [
       "<div>\n",
       "<style scoped>\n",
       "    .dataframe tbody tr th:only-of-type {\n",
       "        vertical-align: middle;\n",
       "    }\n",
       "\n",
       "    .dataframe tbody tr th {\n",
       "        vertical-align: top;\n",
       "    }\n",
       "\n",
       "    .dataframe thead th {\n",
       "        text-align: right;\n",
       "    }\n",
       "</style>\n",
       "<table border=\"1\" class=\"dataframe\">\n",
       "  <thead>\n",
       "    <tr style=\"text-align: right;\">\n",
       "      <th></th>\n",
       "      <th>Age</th>\n",
       "      <th>Income</th>\n",
       "      <th>SpendingScore</th>\n",
       "      <th>Savings</th>\n",
       "    </tr>\n",
       "  </thead>\n",
       "  <tbody>\n",
       "    <tr>\n",
       "      <th>0</th>\n",
       "      <td>58</td>\n",
       "      <td>77769</td>\n",
       "      <td>0.791329</td>\n",
       "      <td>6559.829923</td>\n",
       "    </tr>\n",
       "    <tr>\n",
       "      <th>1</th>\n",
       "      <td>59</td>\n",
       "      <td>81799</td>\n",
       "      <td>0.791082</td>\n",
       "      <td>5417.661426</td>\n",
       "    </tr>\n",
       "    <tr>\n",
       "      <th>2</th>\n",
       "      <td>62</td>\n",
       "      <td>74751</td>\n",
       "      <td>0.702657</td>\n",
       "      <td>9258.992965</td>\n",
       "    </tr>\n",
       "    <tr>\n",
       "      <th>3</th>\n",
       "      <td>59</td>\n",
       "      <td>74373</td>\n",
       "      <td>0.765680</td>\n",
       "      <td>7346.334504</td>\n",
       "    </tr>\n",
       "    <tr>\n",
       "      <th>4</th>\n",
       "      <td>87</td>\n",
       "      <td>17760</td>\n",
       "      <td>0.348778</td>\n",
       "      <td>16869.507130</td>\n",
       "    </tr>\n",
       "  </tbody>\n",
       "</table>\n",
       "</div>"
      ],
      "text/plain": [
       "   Age  Income  SpendingScore       Savings\n",
       "0   58   77769       0.791329   6559.829923\n",
       "1   59   81799       0.791082   5417.661426\n",
       "2   62   74751       0.702657   9258.992965\n",
       "3   59   74373       0.765680   7346.334504\n",
       "4   87   17760       0.348778  16869.507130"
      ]
     },
     "execution_count": 3,
     "metadata": {},
     "output_type": "execute_result"
    }
   ],
   "source": [
    "df.head()"
   ]
  },
  {
   "cell_type": "code",
   "execution_count": 4,
   "metadata": {},
   "outputs": [
    {
     "name": "stdout",
     "output_type": "stream",
     "text": [
      "<class 'pandas.core.frame.DataFrame'>\n",
      "RangeIndex: 505 entries, 0 to 504\n",
      "Data columns (total 4 columns):\n",
      "Age              505 non-null int64\n",
      "Income           505 non-null int64\n",
      "SpendingScore    505 non-null float64\n",
      "Savings          505 non-null float64\n",
      "dtypes: float64(2), int64(2)\n",
      "memory usage: 15.9 KB\n"
     ]
    }
   ],
   "source": [
    "df.info()"
   ]
  },
  {
   "cell_type": "code",
   "execution_count": 5,
   "metadata": {},
   "outputs": [
    {
     "data": {
      "text/plain": [
       "Age              0\n",
       "Income           0\n",
       "SpendingScore    0\n",
       "Savings          0\n",
       "dtype: int64"
      ]
     },
     "execution_count": 5,
     "metadata": {},
     "output_type": "execute_result"
    }
   ],
   "source": [
    "df.isnull().sum()"
   ]
  },
  {
   "cell_type": "code",
   "execution_count": 6,
   "metadata": {},
   "outputs": [],
   "source": [
    "# so there is no null value"
   ]
  },
  {
   "cell_type": "code",
   "execution_count": 7,
   "metadata": {},
   "outputs": [
    {
     "data": {
      "text/plain": [
       "Age                int64\n",
       "Income             int64\n",
       "SpendingScore    float64\n",
       "Savings          float64\n",
       "dtype: object"
      ]
     },
     "execution_count": 7,
     "metadata": {},
     "output_type": "execute_result"
    }
   ],
   "source": [
    "df.dtypes"
   ]
  },
  {
   "cell_type": "code",
   "execution_count": 8,
   "metadata": {},
   "outputs": [
    {
     "data": {
      "text/html": [
       "<div>\n",
       "<style scoped>\n",
       "    .dataframe tbody tr th:only-of-type {\n",
       "        vertical-align: middle;\n",
       "    }\n",
       "\n",
       "    .dataframe tbody tr th {\n",
       "        vertical-align: top;\n",
       "    }\n",
       "\n",
       "    .dataframe thead th {\n",
       "        text-align: right;\n",
       "    }\n",
       "</style>\n",
       "<table border=\"1\" class=\"dataframe\">\n",
       "  <thead>\n",
       "    <tr style=\"text-align: right;\">\n",
       "      <th></th>\n",
       "      <th>Age</th>\n",
       "      <th>Income</th>\n",
       "      <th>SpendingScore</th>\n",
       "      <th>Savings</th>\n",
       "    </tr>\n",
       "  </thead>\n",
       "  <tbody>\n",
       "    <tr>\n",
       "      <th>count</th>\n",
       "      <td>505.000000</td>\n",
       "      <td>505.000000</td>\n",
       "      <td>505.000000</td>\n",
       "      <td>505.000000</td>\n",
       "    </tr>\n",
       "    <tr>\n",
       "      <th>mean</th>\n",
       "      <td>59.019802</td>\n",
       "      <td>75513.291089</td>\n",
       "      <td>0.505083</td>\n",
       "      <td>11862.455867</td>\n",
       "    </tr>\n",
       "    <tr>\n",
       "      <th>std</th>\n",
       "      <td>24.140043</td>\n",
       "      <td>35992.922184</td>\n",
       "      <td>0.259634</td>\n",
       "      <td>4949.229253</td>\n",
       "    </tr>\n",
       "    <tr>\n",
       "      <th>min</th>\n",
       "      <td>17.000000</td>\n",
       "      <td>12000.000000</td>\n",
       "      <td>0.000000</td>\n",
       "      <td>0.000000</td>\n",
       "    </tr>\n",
       "    <tr>\n",
       "      <th>25%</th>\n",
       "      <td>34.000000</td>\n",
       "      <td>34529.000000</td>\n",
       "      <td>0.304792</td>\n",
       "      <td>6828.709702</td>\n",
       "    </tr>\n",
       "    <tr>\n",
       "      <th>50%</th>\n",
       "      <td>59.000000</td>\n",
       "      <td>75078.000000</td>\n",
       "      <td>0.368215</td>\n",
       "      <td>14209.932802</td>\n",
       "    </tr>\n",
       "    <tr>\n",
       "      <th>75%</th>\n",
       "      <td>85.000000</td>\n",
       "      <td>107100.000000</td>\n",
       "      <td>0.768279</td>\n",
       "      <td>16047.268331</td>\n",
       "    </tr>\n",
       "    <tr>\n",
       "      <th>max</th>\n",
       "      <td>97.000000</td>\n",
       "      <td>142000.000000</td>\n",
       "      <td>1.000000</td>\n",
       "      <td>20000.000000</td>\n",
       "    </tr>\n",
       "  </tbody>\n",
       "</table>\n",
       "</div>"
      ],
      "text/plain": [
       "              Age         Income  SpendingScore       Savings\n",
       "count  505.000000     505.000000     505.000000    505.000000\n",
       "mean    59.019802   75513.291089       0.505083  11862.455867\n",
       "std     24.140043   35992.922184       0.259634   4949.229253\n",
       "min     17.000000   12000.000000       0.000000      0.000000\n",
       "25%     34.000000   34529.000000       0.304792   6828.709702\n",
       "50%     59.000000   75078.000000       0.368215  14209.932802\n",
       "75%     85.000000  107100.000000       0.768279  16047.268331\n",
       "max     97.000000  142000.000000       1.000000  20000.000000"
      ]
     },
     "execution_count": 8,
     "metadata": {},
     "output_type": "execute_result"
    }
   ],
   "source": [
    "df.describe()"
   ]
  },
  {
   "cell_type": "code",
   "execution_count": 9,
   "metadata": {},
   "outputs": [
    {
     "data": {
      "text/plain": [
       "Text(0.5, 1.0, 'Age vs Income')"
      ]
     },
     "execution_count": 9,
     "metadata": {},
     "output_type": "execute_result"
    },
    {
     "data": {
      "image/png": "[encoded data removed]",
      "text/plain": [
       "<Figure size 432x288 with 1 Axes>"
      ]
     },
     "metadata": {
      "needs_background": "light"
     },
     "output_type": "display_data"
    }
   ],
   "source": [
    "# simple Plot\n",
    "plt.scatter(df['Age'],df['Income'])\n",
    "plt.xlabel('Age')\n",
    "plt.ylabel('Income')\n",
    "plt.title('Age vs Income')"
   ]
  },
  {
   "cell_type": "code",
   "execution_count": 10,
   "metadata": {},
   "outputs": [
    {
     "data": {
      "text/plain": [
       "Age  Income\n",
       "17   123828    1\n",
       "     134734    1\n",
       "     134966    1\n",
       "     136255    1\n",
       "18   123718    1\n",
       "              ..\n",
       "94   27771     1\n",
       "     28352     1\n",
       "     38923     1\n",
       "95   27038     1\n",
       "97   27271     1\n",
       "Length: 505, dtype: int64"
      ]
     },
     "execution_count": 10,
     "metadata": {},
     "output_type": "execute_result"
    }
   ],
   "source": [
    "# Groups based on age and income\n",
    "df.groupby(['Age','Income']).size()"
   ]
  },
  {
   "cell_type": "markdown",
   "metadata": {},
   "source": [
    "###  how to find the optimal k for the cluster\n",
    " + elbow method\n",
    " + silhouette method\n",
    " "
   ]
  },
  {
   "cell_type": "code",
   "execution_count": 11,
   "metadata": {},
   "outputs": [],
   "source": [
    "# Elbow Method\n",
    "# Use the sum of squared distance and find where threr is a bent\n",
    "# working with kmean\n",
    "from sklearn.cluster import KMeans\n",
    "\n",
    "\n",
    "sum_of_sqr_distance =[]\n",
    "k_range = range(1,15)\n",
    "for k in k_range:\n",
    "    km_model2 = KMeans(n_clusters=k)\n",
    "    km_model2.fit(df)\n",
    "    sum_of_sqr_distance.append(km_model2.inertia_)\n"
   ]
  },
  {
   "cell_type": "code",
   "execution_count": 12,
   "metadata": {
    "scrolled": true
   },
   "outputs": [
    {
     "data": {
      "image/png": "[encoded data removed]",
      "text/plain": [
       "<Figure size 432x288 with 1 Axes>"
      ]
     },
     "metadata": {
      "needs_background": "light"
     },
     "output_type": "display_data"
    }
   ],
   "source": [
    "# plot elbow method\n",
    "plt.plot(k_range,sum_of_sqr_distance)\n",
    "plt.xlabel('K-Clusters')\n",
    "plt.ylabel('sum of SD')\n",
    "plt.title('Elbow plot for optimal K')\n",
    "plt.show()"
   ]
  },
  {
   "cell_type": "code",
   "execution_count": 13,
   "metadata": {},
   "outputs": [],
   "source": [
    "# Using silhouette method for optimal K"
   ]
  },
  {
   "cell_type": "code",
   "execution_count": 14,
   "metadata": {},
   "outputs": [],
   "source": [
    "from sklearn.metrics import silhouette_samples, silhouette_score"
   ]
  },
  {
   "cell_type": "code",
   "execution_count": 15,
   "metadata": {},
   "outputs": [
    {
     "name": "stdout",
     "output_type": "stream",
     "text": [
      "For n_clusters = 2, silhouette_score is 0.6547312337772452\n",
      "For n_clusters = 3, silhouette_score is 0.7393168523275075\n",
      "For n_clusters = 4, silhouette_score is 0.7207226008574877\n",
      "For n_clusters = 5, silhouette_score is 0.6382039175207863\n",
      "For n_clusters = 6, silhouette_score is 0.5778227894898563\n"
     ]
    }
   ],
   "source": [
    "range_n_clusters = [2,3,4,5,6]\n",
    "\n",
    "for n_clusters in range_n_clusters:\n",
    "    km_model3 = KMeans(n_clusters=n_clusters)\n",
    "    preds = km_model3.fit_predict(df)\n",
    "    center = km_model3.cluster_centers_\n",
    "    \n",
    "    score = silhouette_score(df,preds)\n",
    "    print(\"For n_clusters = {}, silhouette_score is {}\".format(n_clusters,score))\n",
    "\n",
    "\n"
   ]
  },
  {
   "cell_type": "markdown",
   "metadata": {},
   "source": [
    "#### we chose higer value \"silhouette_score\" and ref the scatter plot\n",
    "\n",
    "+ we get k vlue"
   ]
  },
  {
   "cell_type": "code",
   "execution_count": 16,
   "metadata": {},
   "outputs": [
    {
     "data": {
      "text/plain": [
       "array([2, 2, 2, 2, 1, 0, 2, 1, 1, 1, 3, 3, 3, 3, 2, 0, 2, 1, 1, 0, 3, 0,\n",
       "       2, 1, 0, 0, 0, 2, 1, 2, 2, 2, 1, 2, 3, 2, 1, 2, 3, 3, 2, 1, 0, 2,\n",
       "       2, 0, 0, 0, 3, 2, 1, 3, 0, 1, 2, 1, 3, 1, 1, 1, 1, 1, 1, 2, 2, 2,\n",
       "       1, 0, 0, 2, 2, 3, 1, 1, 3, 2, 3, 2, 2, 0, 2, 3, 2, 1, 1, 3, 3, 2,\n",
       "       2, 2, 2, 2, 0, 1, 2, 0, 3, 2, 2, 3, 3, 0, 3, 0, 3, 1, 1, 3, 3, 2,\n",
       "       1, 3, 2, 3, 3, 3, 2, 3, 0, 1, 3, 1, 1, 1, 3, 0, 2, 1, 2, 2, 3, 2,\n",
       "       3, 2, 0, 1, 0, 0, 2, 3, 1, 2, 2, 0, 2, 0, 2, 0, 2, 1, 2, 3, 1, 2,\n",
       "       1, 3, 3, 2, 1, 2, 3, 1, 2, 3, 1, 3, 1, 2, 3, 2, 1, 2, 3, 2, 1, 2,\n",
       "       2, 1, 1, 1, 2, 2, 3, 0, 0, 1, 3, 2, 2, 2, 3, 1, 2, 2, 2, 1, 0, 3,\n",
       "       1, 1, 1, 3, 2, 3, 2, 3, 2, 1, 0, 2, 1, 1, 1, 1, 2, 1, 3, 0, 3, 1,\n",
       "       2, 2, 3, 1, 0, 0, 3, 2, 2, 1, 2, 2, 1, 2, 2, 2, 3, 2, 3, 3, 0, 2,\n",
       "       2, 2, 0, 2, 3, 1, 0, 0, 0, 1, 2, 3, 1, 1, 3, 3, 2, 2, 0, 2, 2, 1,\n",
       "       2, 1, 3, 0, 2, 3, 1, 2, 1, 1, 3, 2, 1, 1, 2, 2, 1, 3, 3, 0, 3, 1,\n",
       "       1, 3, 0, 1, 1, 0, 2, 3, 3, 2, 3, 1, 1, 3, 2, 3, 1, 2, 3, 0, 2, 1,\n",
       "       3, 3, 1, 0, 3, 2, 1, 3, 2, 2, 1, 3, 1, 3, 1, 3, 1, 1, 3, 1, 3, 2,\n",
       "       3, 2, 2, 3, 3, 1, 1, 0, 0, 3, 1, 0, 1, 3, 2, 2, 2, 1, 1, 3, 3, 0,\n",
       "       0, 0, 2, 3, 0, 1, 2, 1, 0, 2, 1, 1, 2, 1, 3, 2, 3, 3, 3, 2, 1, 1,\n",
       "       1, 1, 1, 3, 3, 1, 2, 3, 3, 0, 1, 1, 2, 1, 1, 2, 1, 1, 3, 1, 2, 3,\n",
       "       0, 3, 2, 1, 3, 2, 2, 2, 1, 3, 0, 3, 2, 3, 2, 2, 0, 3, 0, 0, 3, 3,\n",
       "       1, 2, 1, 3, 1, 3, 2, 2, 1, 0, 3, 1, 3, 2, 2, 3, 2, 1, 2, 3, 2, 1,\n",
       "       2, 1, 0, 3, 3, 0, 3, 3, 1, 1, 2, 0, 2, 3, 3, 0, 0, 3, 0, 1, 3, 3,\n",
       "       2, 3, 1, 1, 0, 2, 0, 2, 2, 3, 2, 2, 2, 1, 3, 3, 2, 2, 2, 1, 3, 1,\n",
       "       1, 1, 1, 0, 1, 1, 1, 2, 2, 1, 1, 2, 0, 1, 3, 0, 3, 1, 1, 1, 1])"
      ]
     },
     "execution_count": 16,
     "metadata": {},
     "output_type": "execute_result"
    }
   ],
   "source": [
    "km3 = KMeans(n_clusters=4)\n",
    "\n",
    "y_pred = km3.fit_predict(df)\n",
    "\n",
    "y_pred"
   ]
  },
  {
   "cell_type": "code",
   "execution_count": 17,
   "metadata": {},
   "outputs": [
    {
     "data": {
      "text/plain": [
       "array([[4.08750000e+01, 1.26031667e+05, 6.54598429e-01, 7.28792610e+03],\n",
       "       [8.77755102e+01, 2.78661020e+04, 3.28800461e-01, 1.66592614e+04],\n",
       "       [5.99615385e+01, 7.23328462e+04, 7.71295985e-01, 6.89089329e+03],\n",
       "       [3.54230769e+01, 1.05228392e+05, 3.02152694e-01, 1.49378365e+04]])"
      ]
     },
     "execution_count": 17,
     "metadata": {},
     "output_type": "execute_result"
    }
   ],
   "source": [
    "# find number of cluster \n",
    "# best method find no.of ceter in sys\n",
    "\n",
    "km3.cluster_centers_"
   ]
  },
  {
   "cell_type": "code",
   "execution_count": 18,
   "metadata": {},
   "outputs": [
    {
     "data": {
      "text/html": [
       "<div>\n",
       "<style scoped>\n",
       "    .dataframe tbody tr th:only-of-type {\n",
       "        vertical-align: middle;\n",
       "    }\n",
       "\n",
       "    .dataframe tbody tr th {\n",
       "        vertical-align: top;\n",
       "    }\n",
       "\n",
       "    .dataframe thead th {\n",
       "        text-align: right;\n",
       "    }\n",
       "</style>\n",
       "<table border=\"1\" class=\"dataframe\">\n",
       "  <thead>\n",
       "    <tr style=\"text-align: right;\">\n",
       "      <th></th>\n",
       "      <th>Age</th>\n",
       "      <th>Income</th>\n",
       "      <th>SpendingScore</th>\n",
       "      <th>Savings</th>\n",
       "    </tr>\n",
       "  </thead>\n",
       "  <tbody>\n",
       "    <tr>\n",
       "      <th>0</th>\n",
       "      <td>58</td>\n",
       "      <td>77769</td>\n",
       "      <td>0.791329</td>\n",
       "      <td>6559.829923</td>\n",
       "    </tr>\n",
       "    <tr>\n",
       "      <th>1</th>\n",
       "      <td>59</td>\n",
       "      <td>81799</td>\n",
       "      <td>0.791082</td>\n",
       "      <td>5417.661426</td>\n",
       "    </tr>\n",
       "    <tr>\n",
       "      <th>2</th>\n",
       "      <td>62</td>\n",
       "      <td>74751</td>\n",
       "      <td>0.702657</td>\n",
       "      <td>9258.992965</td>\n",
       "    </tr>\n",
       "    <tr>\n",
       "      <th>3</th>\n",
       "      <td>59</td>\n",
       "      <td>74373</td>\n",
       "      <td>0.765680</td>\n",
       "      <td>7346.334504</td>\n",
       "    </tr>\n",
       "    <tr>\n",
       "      <th>4</th>\n",
       "      <td>87</td>\n",
       "      <td>17760</td>\n",
       "      <td>0.348778</td>\n",
       "      <td>16869.507130</td>\n",
       "    </tr>\n",
       "  </tbody>\n",
       "</table>\n",
       "</div>"
      ],
      "text/plain": [
       "   Age  Income  SpendingScore       Savings\n",
       "0   58   77769       0.791329   6559.829923\n",
       "1   59   81799       0.791082   5417.661426\n",
       "2   62   74751       0.702657   9258.992965\n",
       "3   59   74373       0.765680   7346.334504\n",
       "4   87   17760       0.348778  16869.507130"
      ]
     },
     "execution_count": 18,
     "metadata": {},
     "output_type": "execute_result"
    }
   ],
   "source": [
    "df.head()"
   ]
  },
  {
   "cell_type": "code",
   "execution_count": 19,
   "metadata": {},
   "outputs": [],
   "source": [
    "# ther is 4 pair value is presrnt so we are correct\n",
    "# we add clusters value in real data set \n",
    "\n",
    "df['clusters']= y_pred"
   ]
  },
  {
   "cell_type": "code",
   "execution_count": 20,
   "metadata": {},
   "outputs": [
    {
     "data": {
      "text/html": [
       "<div>\n",
       "<style scoped>\n",
       "    .dataframe tbody tr th:only-of-type {\n",
       "        vertical-align: middle;\n",
       "    }\n",
       "\n",
       "    .dataframe tbody tr th {\n",
       "        vertical-align: top;\n",
       "    }\n",
       "\n",
       "    .dataframe thead th {\n",
       "        text-align: right;\n",
       "    }\n",
       "</style>\n",
       "<table border=\"1\" class=\"dataframe\">\n",
       "  <thead>\n",
       "    <tr style=\"text-align: right;\">\n",
       "      <th></th>\n",
       "      <th>Age</th>\n",
       "      <th>Income</th>\n",
       "      <th>SpendingScore</th>\n",
       "      <th>Savings</th>\n",
       "      <th>clusters</th>\n",
       "    </tr>\n",
       "  </thead>\n",
       "  <tbody>\n",
       "    <tr>\n",
       "      <th>0</th>\n",
       "      <td>58</td>\n",
       "      <td>77769</td>\n",
       "      <td>0.791329</td>\n",
       "      <td>6559.829923</td>\n",
       "      <td>2</td>\n",
       "    </tr>\n",
       "    <tr>\n",
       "      <th>1</th>\n",
       "      <td>59</td>\n",
       "      <td>81799</td>\n",
       "      <td>0.791082</td>\n",
       "      <td>5417.661426</td>\n",
       "      <td>2</td>\n",
       "    </tr>\n",
       "    <tr>\n",
       "      <th>2</th>\n",
       "      <td>62</td>\n",
       "      <td>74751</td>\n",
       "      <td>0.702657</td>\n",
       "      <td>9258.992965</td>\n",
       "      <td>2</td>\n",
       "    </tr>\n",
       "    <tr>\n",
       "      <th>3</th>\n",
       "      <td>59</td>\n",
       "      <td>74373</td>\n",
       "      <td>0.765680</td>\n",
       "      <td>7346.334504</td>\n",
       "      <td>2</td>\n",
       "    </tr>\n",
       "    <tr>\n",
       "      <th>4</th>\n",
       "      <td>87</td>\n",
       "      <td>17760</td>\n",
       "      <td>0.348778</td>\n",
       "      <td>16869.507130</td>\n",
       "      <td>1</td>\n",
       "    </tr>\n",
       "  </tbody>\n",
       "</table>\n",
       "</div>"
      ],
      "text/plain": [
       "   Age  Income  SpendingScore       Savings  clusters\n",
       "0   58   77769       0.791329   6559.829923         2\n",
       "1   59   81799       0.791082   5417.661426         2\n",
       "2   62   74751       0.702657   9258.992965         2\n",
       "3   59   74373       0.765680   7346.334504         2\n",
       "4   87   17760       0.348778  16869.507130         1"
      ]
     },
     "execution_count": 20,
     "metadata": {},
     "output_type": "execute_result"
    }
   ],
   "source": [
    "df.head()\n",
    "# ok"
   ]
  },
  {
   "cell_type": "code",
   "execution_count": 21,
   "metadata": {},
   "outputs": [
    {
     "data": {
      "text/plain": [
       "array([2, 1, 0, 3], dtype=int64)"
      ]
     },
     "execution_count": 21,
     "metadata": {},
     "output_type": "execute_result"
    }
   ],
   "source": [
    "df['clusters'].unique()"
   ]
  },
  {
   "cell_type": "code",
   "execution_count": 22,
   "metadata": {},
   "outputs": [],
   "source": [
    "# we just see what is shown in scatter plot\n",
    "\n",
    "\n",
    "df0 =df[df['clusters']==0]\n",
    "df1 =df[df['clusters']==1]\n",
    "df2 =df[df['clusters']==2]\n",
    "df3 =df[df['clusters']==3]\n"
   ]
  },
  {
   "cell_type": "code",
   "execution_count": 23,
   "metadata": {},
   "outputs": [
    {
     "data": {
      "text/plain": [
       "<matplotlib.collections.PathCollection at 0x273568efc88>"
      ]
     },
     "execution_count": 23,
     "metadata": {},
     "output_type": "execute_result"
    },
    {
     "data": {
      "image/png": "[encoded data removed]",
      "text/plain": [
       "<Figure size 432x288 with 1 Axes>"
      ]
     },
     "metadata": {
      "needs_background": "light"
     },
     "output_type": "display_data"
    }
   ],
   "source": [
    "plt.scatter(df0['Age'],df0['Savings'],color='b')"
   ]
  },
  {
   "cell_type": "code",
   "execution_count": 24,
   "metadata": {},
   "outputs": [
    {
     "data": {
      "text/plain": [
       "Text(0, 0.5, 'Cluster')"
      ]
     },
     "execution_count": 24,
     "metadata": {},
     "output_type": "execute_result"
    },
    {
     "data": {
      "image/png": "[encoded data removed]",
      "text/plain": [
       "<Figure size 432x288 with 1 Axes>"
      ]
     },
     "metadata": {
      "needs_background": "light"
     },
     "output_type": "display_data"
    }
   ],
   "source": [
    "plt.scatter(df0['Age'],df0['Savings'],color='b')\n",
    "plt.scatter(df1['Age'],df1['Savings'],color='r')\n",
    "plt.scatter(df2['Age'],df2['Savings'],color='g')\n",
    "plt.scatter(df3['Age'],df3['Savings'],color='yellow')\n",
    "plt.xlabel('Features')\n",
    "plt.ylabel('Cluster')"
   ]
  },
  {
   "cell_type": "code",
   "execution_count": 25,
   "metadata": {},
   "outputs": [
    {
     "data": {
      "text/plain": [
       "array([[4.08750000e+01, 1.26031667e+05, 6.54598429e-01, 7.28792610e+03],\n",
       "       [8.77755102e+01, 2.78661020e+04, 3.28800461e-01, 1.66592614e+04],\n",
       "       [5.99615385e+01, 7.23328462e+04, 7.71295985e-01, 6.89089329e+03],\n",
       "       [3.54230769e+01, 1.05228392e+05, 3.02152694e-01, 1.49378365e+04]])"
      ]
     },
     "execution_count": 25,
     "metadata": {},
     "output_type": "execute_result"
    }
   ],
   "source": [
    "km3.cluster_centers_"
   ]
  },
  {
   "cell_type": "code",
   "execution_count": 26,
   "metadata": {},
   "outputs": [
    {
     "data": {
      "text/plain": [
       "<matplotlib.legend.Legend at 0x273569fdf48>"
      ]
     },
     "execution_count": 26,
     "metadata": {},
     "output_type": "execute_result"
    },
    {
     "data": {
      "image/png": "[encoded data removed]",
      "text/plain": [
       "<Figure size 432x288 with 1 Axes>"
      ]
     },
     "metadata": {
      "needs_background": "light"
     },
     "output_type": "display_data"
    }
   ],
   "source": [
    "plt.scatter(df0['Age'],df0['Savings'],color='b')\n",
    "plt.scatter(df1['Age'],df1['Savings'],color='r')\n",
    "plt.scatter(df2['Age'],df2['Savings'],color='g')\n",
    "plt.scatter(df3['Age'],df3['Savings'],color='yellow')\n",
    "\n",
    "plt.scatter(km3.cluster_centers_[:,0],\n",
    "            km3.cluster_centers_[:,3],\n",
    "            color ='black',\n",
    "           marker='*',\n",
    "            label='centroid')\n",
    "\n",
    "plt.xlabel('Features')\n",
    "plt.ylabel('Cluster')\n",
    "plt.legend()"
   ]
  },
  {
   "cell_type": "code",
   "execution_count": 27,
   "metadata": {},
   "outputs": [],
   "source": [
    "import matplotlib.cm as cm\n",
    "from sklearn.metrics import silhouette_samples, silhouette_score\n",
    "def silhouette_plot(X, y, n_clusters, ax=None):\n",
    "\tif ax is None:\n",
    "\t\tax = plt.gca()\n",
    "\t\t# Compute the silhouette scores for each sample\n",
    "\t\tsilhouette_avg = silhouette_score(X, y)\n",
    "\t\tsample_silhouette_values = silhouette_samples(X, y)\n",
    "\t\ty_lower = padding = 2\n",
    "\t\tfor i in range(n_clusters):\n",
    "\t# Aggregate the silhouette scores for samples belonging to\n",
    "\t\t\tith_cluster_silhouette_values = sample_silhouette_values[y == i]\n",
    "\t\t\tith_cluster_silhouette_values.sort()\n",
    "\t\t\tsize_cluster_i = ith_cluster_silhouette_values.shape[0]\n",
    "\t\t\ty_upper = y_lower + size_cluster_i\n",
    "\t\t\tcolor = cm.nipy_spectral(float(i) / n_clusters)\n",
    "\t\t\tax.fill_betweenx(np.arange(y_lower, y_upper),\n",
    "\t\t\t\t\t\t\t0,ith_cluster_silhouette_values,\n",
    "\t\t\t\t\t\t\tfacecolor=color,\n",
    "\t\t\t\t\t\t\tedgecolor=color,\n",
    "\t\t\t\t\t\t\talpha=0.7)\n",
    "\t\t\t# Label the silhouette plots with their cluster numbers at the middle\n",
    "\t\t\tax.text(-0.05, y_lower + 0.5 * size_cluster_i, str(i + 1))\n",
    "\t\t\t# Compute the new y_lower for next plot\n",
    "\t\t\ty_lower = y_upper + padding\n",
    "\t\tax.set_xlabel(\"The silhouette coefficient values\")\n",
    "\t\tax.set_ylabel(\"Cluster label\")\n",
    "\t\t# The vertical line for average silhoutte score of all the values\n",
    "\t\tax.axvline(x=silhouette_avg, c='r', alpha=0.8, lw=0.8, ls='-')\n",
    "\t\tax.annotate('Average',\n",
    "\t\t\t\t\txytext=(silhouette_avg, y_lower * 1.025),\n",
    "\t\t\t\t\txy=(0, 0),\n",
    "\t\t\t\t\tha='center',\n",
    "\t\t\t\t\talpha=0.8,\n",
    "\t\t\t\t\tc='r')\n",
    "\t\tax.set_yticks([]) # Clear the yaxis labels / ticks\n",
    "\t\tax.set_xticks([0, 0.2, 0.4, 0.6, 0.8, 1])\n",
    "\t\tax.set_ylim(0, y_upper + 1)\n",
    "\t\tax.set_xlim(-0.075, 1.0)\n",
    "\t\treturn ax"
   ]
  },
  {
   "cell_type": "code",
   "execution_count": 28,
   "metadata": {},
   "outputs": [
    {
     "data": {
      "text/plain": [
       "<matplotlib.axes._subplots.AxesSubplot at 0x273569ae388>"
      ]
     },
     "execution_count": 28,
     "metadata": {},
     "output_type": "execute_result"
    },
    {
     "data": {
      "image/png": "[encoded data removed]",
      "text/plain": [
       "<Figure size 432x288 with 1 Axes>"
      ]
     },
     "metadata": {
      "needs_background": "light"
     },
     "output_type": "display_data"
    }
   ],
   "source": [
    "silhouette_plot(df,y_pred,4,ax=None)\n",
    "\n",
    "#The silhouette score is a measure of how similar an object is to its\n",
    "# own cluster (cohesion) compared to other clusters (separation)"
   ]
  },
  {
   "cell_type": "code",
   "execution_count": null,
   "metadata": {},
   "outputs": [],
   "source": []
  },
  {
   "cell_type": "code",
   "execution_count": 29,
   "metadata": {},
   "outputs": [
    {
     "data": {
      "text/plain": [
       "array([2, 2, 2, 2, 0, 3, 2, 5, 5, 0, 4, 1, 1, 4, 2, 3, 2, 5, 5, 4, 1, 3,\n",
       "       2, 0, 4, 3, 3, 2, 5, 2, 2, 2, 0, 2, 1, 2, 0, 2, 1, 4, 2, 0, 3, 2,\n",
       "       2, 3, 4, 3, 1, 2, 0, 1, 3, 0, 2, 0, 1, 5, 0, 5, 5, 0, 5, 2, 2, 2,\n",
       "       0, 3, 3, 2, 2, 4, 5, 5, 4, 2, 1, 2, 2, 3, 2, 4, 1, 0, 5, 1, 1, 2,\n",
       "       1, 2, 2, 2, 3, 5, 2, 3, 1, 2, 2, 4, 4, 3, 4, 3, 1, 5, 0, 4, 4, 2,\n",
       "       5, 1, 2, 1, 1, 1, 2, 4, 3, 5, 1, 0, 5, 5, 4, 3, 2, 5, 2, 2, 4, 2,\n",
       "       1, 2, 3, 5, 3, 3, 2, 4, 5, 2, 2, 3, 2, 3, 2, 3, 2, 5, 2, 4, 5, 2,\n",
       "       0, 4, 4, 2, 5, 2, 4, 5, 2, 1, 0, 1, 5, 2, 4, 2, 5, 2, 1, 2, 5, 2,\n",
       "       2, 0, 5, 0, 2, 2, 4, 3, 3, 0, 1, 2, 2, 2, 1, 0, 2, 2, 2, 5, 3, 4,\n",
       "       0, 0, 0, 1, 2, 1, 2, 4, 2, 5, 3, 2, 0, 0, 5, 0, 2, 0, 1, 3, 1, 0,\n",
       "       2, 2, 4, 5, 4, 3, 1, 2, 2, 5, 2, 2, 5, 2, 2, 2, 1, 2, 4, 1, 3, 2,\n",
       "       2, 2, 4, 2, 4, 0, 3, 3, 3, 5, 2, 4, 0, 0, 1, 4, 2, 2, 4, 2, 2, 5,\n",
       "       2, 0, 4, 3, 2, 4, 0, 2, 0, 0, 1, 2, 0, 0, 2, 2, 5, 1, 4, 3, 4, 5,\n",
       "       0, 1, 4, 5, 5, 3, 2, 4, 4, 2, 4, 5, 5, 1, 2, 4, 0, 2, 1, 3, 2, 0,\n",
       "       1, 4, 0, 4, 4, 2, 0, 1, 2, 2, 5, 1, 0, 1, 5, 4, 0, 5, 4, 5, 4, 2,\n",
       "       4, 2, 2, 1, 4, 0, 0, 3, 3, 1, 5, 3, 0, 4, 2, 2, 2, 5, 0, 4, 4, 4,\n",
       "       4, 3, 2, 4, 3, 0, 2, 0, 3, 2, 0, 5, 2, 5, 4, 2, 4, 4, 4, 2, 0, 0,\n",
       "       5, 0, 0, 1, 4, 0, 2, 4, 1, 4, 5, 5, 2, 5, 5, 2, 5, 5, 4, 5, 2, 1,\n",
       "       3, 4, 2, 5, 1, 2, 2, 2, 5, 1, 3, 4, 2, 1, 2, 2, 3, 4, 3, 3, 4, 1,\n",
       "       5, 2, 0, 1, 0, 4, 2, 2, 0, 3, 4, 0, 1, 2, 2, 4, 2, 0, 2, 4, 2, 5,\n",
       "       2, 5, 3, 1, 4, 3, 1, 1, 0, 0, 2, 3, 2, 4, 4, 3, 3, 4, 3, 0, 1, 4,\n",
       "       2, 1, 0, 0, 3, 2, 4, 2, 2, 1, 2, 2, 2, 5, 4, 4, 2, 2, 2, 0, 4, 0,\n",
       "       5, 0, 5, 3, 0, 0, 5, 2, 2, 5, 5, 2, 3, 5, 1, 3, 1, 0, 5, 0, 5])"
      ]
     },
     "execution_count": 29,
     "metadata": {},
     "output_type": "execute_result"
    }
   ],
   "source": [
    "preds"
   ]
  },
  {
   "cell_type": "code",
   "execution_count": 30,
   "metadata": {},
   "outputs": [
    {
     "data": {
      "text/plain": [
       "<matplotlib.axes._subplots.AxesSubplot at 0x273568b8f88>"
      ]
     },
     "execution_count": 30,
     "metadata": {},
     "output_type": "execute_result"
    },
    {
     "data": {
      "image/png": "[encoded data removed]",
      "text/plain": [
       "<Figure size 432x288 with 1 Axes>"
      ]
     },
     "metadata": {
      "needs_background": "light"
     },
     "output_type": "display_data"
    }
   ],
   "source": [
    "silhouette_plot(df,y_pred,3,ax=None)"
   ]
  },
  {
   "cell_type": "code",
   "execution_count": null,
   "metadata": {},
   "outputs": [],
   "source": []
  },
  {
   "cell_type": "code",
   "execution_count": null,
   "metadata": {},
   "outputs": [],
   "source": []
  },
  {
   "cell_type": "code",
   "execution_count": null,
   "metadata": {},
   "outputs": [],
   "source": []
  },
  {
   "cell_type": "code",
   "execution_count": null,
   "metadata": {},
   "outputs": [],
   "source": []
  },
  {
   "cell_type": "code",
   "execution_count": null,
   "metadata": {},
   "outputs": [],
   "source": []
  },
  {
   "cell_type": "code",
   "execution_count": 31,
   "metadata": {},
   "outputs": [
    {
     "name": "stdout",
     "output_type": "stream",
     "text": [
      "For n_clusters = 2, silhouette_score is 0.6547312334127108\n",
      "For n_clusters = 3, silhouette_score is 0.7393168513571193\n",
      "For n_clusters = 4, silhouette_score is 0.720722603555249\n",
      "For n_clusters = 5, silhouette_score is 0.6777125604326769\n",
      "For n_clusters = 6, silhouette_score is 0.5783063041894917\n"
     ]
    }
   ],
   "source": [
    "range_n_clusters = [2,3,4,5,6]\n",
    "\n",
    "for n_clusters in range_n_clusters:\n",
    "    km_model3 = KMeans(n_clusters=n_clusters)\n",
    "    preds = km_model3.fit_predict(df)\n",
    "    center = km_model3.cluster_centers_\n",
    "    \n",
    "    score = silhouette_score(df,preds)\n",
    "    print(\"For n_clusters = {}, silhouette_score is {}\".format(n_clusters,score))\n",
    "\n",
    "\n"
   ]
  },
  {
   "cell_type": "code",
   "execution_count": 32,
   "metadata": {},
   "outputs": [
    {
     "data": {
      "text/plain": [
       "[2, 3, 4, 5, 6, 7, 8, 9, 10]"
      ]
     },
     "execution_count": 32,
     "metadata": {},
     "output_type": "execute_result"
    }
   ],
   "source": [
    "N=10\n",
    "a = range(2,N+1,1)\n",
    "list(a)"
   ]
  },
  {
   "cell_type": "code",
   "execution_count": 192,
   "metadata": {},
   "outputs": [],
   "source": [
    "import pandas as pd\n",
    "import numpy as np\n",
    "\n",
    "import matplotlib.pyplot as plt\n",
    "import seaborn as sns\n",
    "%matplotlib inline\n",
    "\n",
    "\n",
    "import matplotlib.cm as cm\n",
    "from sklearn.metrics import silhouette_samples, silhouette_score\n",
    "\n",
    "\n",
    "\n",
    "\n",
    "\n",
    "def sil_text(X,u,v,N):\n",
    "    \n",
    "   \n",
    "    a = range(2,N+1,1)\n",
    "    range_n_clusters =list(a)\n",
    "    \n",
    "    for n_clusters in range_n_clusters:\n",
    "        \n",
    "        \n",
    "        fig, (ax1, ax2) = plt.subplots(1, 2)\n",
    "        fig.set_size_inches(18, 7)\n",
    "\n",
    "        # The 1st subplot is the silhouette plot\n",
    "        # The silhouette coefficient can range from -1, 1 but in this example all\n",
    "        # lie within [-0.1, 1]\n",
    "        ax1.set_xlim([-0.1, 1])\n",
    "        # The (n_clusters+1)*10 is for inserting blank space between silhouette\n",
    "        # plots of individual clusters, to demarcate them clearly.\n",
    "        ax1.set_ylim([0, len(X) + (n_clusters + 1) * 10])\n",
    "\n",
    "        # Initialize the clusterer with n_clusters value and a random generator\n",
    "        # seed of 10 for reproducibility.\n",
    "        clusterer = KMeans(n_clusters=n_clusters, random_state=10)\n",
    "        cluster_labels = clusterer.fit_predict(X)\n",
    "        y = cluster_labels\n",
    "\n",
    "        # The silhouette_score gives the average value for all the samples.\n",
    "        # This gives a perspective into the density and separation of the formed\n",
    "        # clusters\n",
    "        silhouette_avg = silhouette_score(X, cluster_labels)\n",
    "        print(\"For n_clusters =\", n_clusters,\n",
    "              \"The average silhouette_score is :\", silhouette_avg)\n",
    "\n",
    "        # Compute the silhouette scores for each sample\n",
    "        sample_silhouette_values = silhouette_samples(X, cluster_labels)\n",
    "\n",
    "        y_lower = 10\n",
    "        for i in range(n_clusters):\n",
    "            # Aggregate the silhouette scores for samples belonging to\n",
    "            # cluster i, and sort them\n",
    "            ith_cluster_silhouette_values = \\\n",
    "                sample_silhouette_values[cluster_labels == i]\n",
    "\n",
    "            ith_cluster_silhouette_values.sort()\n",
    "\n",
    "            size_cluster_i = ith_cluster_silhouette_values.shape[0]\n",
    "            y_upper = y_lower + size_cluster_i\n",
    "\n",
    "            color = cm.nipy_spectral(float(i) / n_clusters)\n",
    "            ax1.fill_betweenx(np.arange(y_lower, y_upper),\n",
    "                              0, ith_cluster_silhouette_values,\n",
    "                              facecolor=color, edgecolor=color, alpha=0.7)\n",
    "\n",
    "            # Label the silhouette plots with their cluster numbers at the middle\n",
    "            ax1.text(-0.05, y_lower + 0.5 * size_cluster_i, str(i))\n",
    "\n",
    "            # Compute the new y_lower for next plot\n",
    "            y_lower = y_upper + 10  # 10 for the 0 samples\n",
    "\n",
    "        ax1.set_title(\"The silhouette plot for the various clusters.\")\n",
    "        ax1.set_xlabel(\"The silhouette coefficient values\")\n",
    "        ax1.set_ylabel(\"Cluster label\")\n",
    "\n",
    "        # The vertical line for average silhouette score of all the values\n",
    "        ax1.axvline(x=silhouette_avg, color=\"red\", linestyle=\"--\")\n",
    "\n",
    "        ax1.set_yticks([])  # Clear the yaxis labels / ticks\n",
    "        ax1.set_xticks([-0.1, 0, 0.2, 0.4, 0.6, 0.8, 1])\n",
    "\n",
    "        # 2nd Plot showing the actual clusters formed\n",
    "        \n",
    "            # 2nd Plot showing the actual clusters formed\n",
    "        colors = cm.nipy_spectral(cluster_labels.astype(float) / n_clusters)\n",
    "        ax2.scatter(u,v, marker='.', lw=0, alpha=0.7, c=colors, edgecolor='k')\n",
    "        \n",
    "       \n",
    "        \n",
    "        ax2.set_title(\"The visualization of the clustered data.\")\n",
    "        ax2.set_xlabel(\"Feature space for the 1st feature\")\n",
    "        ax2.set_ylabel(\"Feature space for the 2nd feature\")\n",
    "\n",
    "        \n",
    "        \n",
    "    \n",
    "\n",
    "        \n",
    "        \n",
    "        plt.suptitle((\"Silhouette analysis for KMeans clustering on sample data \"\n",
    "                      \"with n_clusters = %d\" % n_clusters),\n",
    "                     fontsize=14, fontweight='bold')\n",
    "    plt.show()\n"
   ]
  },
  {
   "cell_type": "code",
   "execution_count": null,
   "metadata": {},
   "outputs": [],
   "source": []
  },
  {
   "cell_type": "code",
   "execution_count": 193,
   "metadata": {},
   "outputs": [
    {
     "name": "stdout",
     "output_type": "stream",
     "text": [
      "For n_clusters = 2 The average silhouette_score is : 0.6547312334127108\n",
      "For n_clusters = 3 The average silhouette_score is : 0.7393168513571193\n"
     ]
    },
    {
     "data": {
      "image/png": "[encoded data removed]",
      "text/plain": [
       "<Figure size 1296x504 with 2 Axes>"
      ]
     },
     "metadata": {
      "needs_background": "light"
     },
     "output_type": "display_data"
    },
    {
     "data": {
      "image/png": "[encoded data removed]",
      "text/plain": [
       "<Figure size 1296x504 with 2 Axes>"
      ]
     },
     "metadata": {
      "needs_background": "light"
     },
     "output_type": "display_data"
    }
   ],
   "source": [
    "sil_text(X=df,u=df['Age'],v=df['Savings'],N=3)"
   ]
  },
  {
   "cell_type": "markdown",
   "metadata": {},
   "source": [
    "# DBSCAN\n",
    "+ DBSCAN stands for Density-Based Spatial Clustering of Applications with Noise\n",
    "+ It refers to an unsupervised learning methods that identify distinctive groups/clusters in the data, based on the idea that a cluster in data space is a contiguous region of high point density, separated from other such clusters by contiguous regions of low point density.(kdnuggets)\n",
    "+ \n",
    "\n",
    "+ DBSCAN is a base algorithm for density-based clustering. \n",
    "+ It can discover clusters of different shapes and sizes from a large amount of data\n",
    "\n",
    "#### Usefulness\n",
    "+ Unsupervised ML\n",
    "+ Outlier Detection\n",
    "+ Noise detection\n",
    "\n",
    "\n",
    "#### Terms\n",
    "The DBSCAN algorithm uses two parameters:\n",
    "+ eps (ε): A distance measure that will be used to locate the points in the neighborhood of any point.\n",
    "\n",
    "+ minPts: The minimum number of points (a threshold) clustered together for a region to be considered dense.\n",
    "    - minPt >= Dimensions of dataset + 1\n",
    "\n",
    "+ Core point — This is a point that has at least m points within distance n from itself.\n",
    "+ Border — This is a point that has at least one Core point at a distance n.\n",
    "+ Noise — This is a point that is neither a Core nor a Border. And it has less than m points within distance n from itself.\n",
    "\n",
    "These parameters can be understood if we explore two concepts called Density Reachability and Density Connectivity.\n",
    "\n",
    "Reachability in terms of density establishes a point to be reachable from another if it lies within a particular distance (eps) from it.\n",
    "\n",
    "Connectivity, on the other hand, involves a transitivity based chaining-approach to determine whether points are located in a particular cluster. For example, p and q points could be connected if p->r->s->t->q, where a->b means b is in the neighborhood of a.\n",
    "\n",
    "\n",
    "\n",
    "\n",
    "\n"
   ]
  },
  {
   "cell_type": "code",
   "execution_count": 195,
   "metadata": {},
   "outputs": [],
   "source": [
    "# second type \n",
    "\n",
    "df = pd.read_csv('jewellery.csv')"
   ]
  },
  {
   "cell_type": "code",
   "execution_count": 196,
   "metadata": {},
   "outputs": [
    {
     "data": {
      "text/html": [
       "<div>\n",
       "<style scoped>\n",
       "    .dataframe tbody tr th:only-of-type {\n",
       "        vertical-align: middle;\n",
       "    }\n",
       "\n",
       "    .dataframe tbody tr th {\n",
       "        vertical-align: top;\n",
       "    }\n",
       "\n",
       "    .dataframe thead th {\n",
       "        text-align: right;\n",
       "    }\n",
       "</style>\n",
       "<table border=\"1\" class=\"dataframe\">\n",
       "  <thead>\n",
       "    <tr style=\"text-align: right;\">\n",
       "      <th></th>\n",
       "      <th>Age</th>\n",
       "      <th>Income</th>\n",
       "      <th>SpendingScore</th>\n",
       "      <th>Savings</th>\n",
       "    </tr>\n",
       "  </thead>\n",
       "  <tbody>\n",
       "    <tr>\n",
       "      <th>0</th>\n",
       "      <td>58</td>\n",
       "      <td>77769</td>\n",
       "      <td>0.791329</td>\n",
       "      <td>6559.829923</td>\n",
       "    </tr>\n",
       "    <tr>\n",
       "      <th>1</th>\n",
       "      <td>59</td>\n",
       "      <td>81799</td>\n",
       "      <td>0.791082</td>\n",
       "      <td>5417.661426</td>\n",
       "    </tr>\n",
       "    <tr>\n",
       "      <th>2</th>\n",
       "      <td>62</td>\n",
       "      <td>74751</td>\n",
       "      <td>0.702657</td>\n",
       "      <td>9258.992965</td>\n",
       "    </tr>\n",
       "    <tr>\n",
       "      <th>3</th>\n",
       "      <td>59</td>\n",
       "      <td>74373</td>\n",
       "      <td>0.765680</td>\n",
       "      <td>7346.334504</td>\n",
       "    </tr>\n",
       "    <tr>\n",
       "      <th>4</th>\n",
       "      <td>87</td>\n",
       "      <td>17760</td>\n",
       "      <td>0.348778</td>\n",
       "      <td>16869.507130</td>\n",
       "    </tr>\n",
       "  </tbody>\n",
       "</table>\n",
       "</div>"
      ],
      "text/plain": [
       "   Age  Income  SpendingScore       Savings\n",
       "0   58   77769       0.791329   6559.829923\n",
       "1   59   81799       0.791082   5417.661426\n",
       "2   62   74751       0.702657   9258.992965\n",
       "3   59   74373       0.765680   7346.334504\n",
       "4   87   17760       0.348778  16869.507130"
      ]
     },
     "execution_count": 196,
     "metadata": {},
     "output_type": "execute_result"
    }
   ],
   "source": [
    "df.head()"
   ]
  },
  {
   "cell_type": "code",
   "execution_count": 197,
   "metadata": {},
   "outputs": [],
   "source": [
    "# Scale our data\n",
    "from sklearn.preprocessing import StandardScaler"
   ]
  },
  {
   "cell_type": "code",
   "execution_count": 198,
   "metadata": {},
   "outputs": [],
   "source": [
    "X = StandardScaler().fit_transform(df)"
   ]
  },
  {
   "cell_type": "code",
   "execution_count": 200,
   "metadata": {},
   "outputs": [
    {
     "data": {
      "text/plain": [
       "(505, 4)"
      ]
     },
     "execution_count": 200,
     "metadata": {},
     "output_type": "execute_result"
    }
   ],
   "source": [
    "X.shape"
   ]
  },
  {
   "cell_type": "code",
   "execution_count": 204,
   "metadata": {
    "collapsed": true
   },
   "outputs": [
    {
     "data": {
      "text/plain": [
       "array([ 0,  0,  0,  0,  1,  4,  0,  1,  1,  1, -1,  2,  2,  2,  0,  3,  0,\n",
       "        1,  1,  3,  2,  3,  0,  1, -1,  4, -1,  0,  1,  0,  0,  0,  1,  0,\n",
       "        2,  0,  1,  0,  2,  2,  0,  1,  4,  0,  0,  4,  3,  4,  2,  0,  1,\n",
       "        2,  4,  1,  0,  1,  2,  1,  1,  1,  1,  1,  1,  0,  0,  0,  1, -1,\n",
       "        4,  0,  0,  2,  1,  1,  2,  0,  2,  0,  0,  4,  0, -1,  0,  1,  1,\n",
       "        2,  2,  0,  0,  0,  0,  0,  4,  1,  0,  4,  2,  0,  0,  2,  2,  4,\n",
       "        2,  4,  2,  1, -1,  2,  2,  0,  1,  2,  0,  2,  2,  2,  0,  2, -1,\n",
       "        1,  2,  1,  1,  1,  2,  3,  0,  1,  0,  0,  2,  0,  2,  0,  4,  1,\n",
       "       -1,  4,  0,  2,  1,  0,  0,  4,  0,  4,  0, -1,  0,  1,  0,  2,  1,\n",
       "        0,  1,  3,  2,  0,  1,  0,  2,  1,  0,  2, -1,  2,  1,  0,  2,  0,\n",
       "        1,  0,  2,  0,  1,  0,  0,  1,  1,  1,  0,  0,  2,  4,  4,  1,  2,\n",
       "        0,  0,  0,  2,  1,  0,  0,  0,  1, -1,  2,  1,  1,  1,  2,  0,  2,\n",
       "        0,  2,  0,  1,  4,  0,  1,  1, -1,  1,  0,  1,  2,  4,  2,  1,  0,\n",
       "        0,  2,  1,  2,  4,  2,  0,  0,  1,  0,  0,  1,  0,  0,  0, -1,  0,\n",
       "        2,  2,  4,  0,  0,  0, -1,  0,  2,  1,  4, -1,  4,  1,  0,  2,  1,\n",
       "       -1,  2,  2,  0,  0,  3,  0,  0,  1,  0,  1,  2,  4,  0,  2,  1,  0,\n",
       "        1,  1,  2,  0,  1,  1,  0,  0,  1,  2,  2,  3,  2,  1,  1, -1, -1,\n",
       "        1, -1,  4,  0,  2,  2,  0,  2,  1,  1,  2,  0,  2,  1,  0,  2,  4,\n",
       "        0,  1,  2,  2,  1,  3, -1,  0,  1,  2,  0,  0,  1,  2,  1,  2,  1,\n",
       "        2,  1,  1,  2,  1,  2,  0,  2,  0,  0,  2,  2,  1,  1, -1,  4,  2,\n",
       "        1,  4,  1,  3,  0,  0,  0,  1,  1,  2,  2,  3,  2, -1,  0,  2,  4,\n",
       "        1,  0,  1,  4,  0,  1,  1,  0,  1,  2,  0,  3,  2,  2,  0,  1,  1,\n",
       "        1,  1,  1,  2,  2,  1,  0,  2,  0,  3,  1,  1,  0,  1,  1,  0,  1,\n",
       "        1,  2,  1,  0,  2,  4,  2,  0,  1,  2,  0,  0,  0,  1,  2,  4,  2,\n",
       "        0,  2,  0,  0,  4,  2,  3,  4,  2,  2,  1,  0,  1,  2, -1,  2,  0,\n",
       "        0,  1, -1,  2,  1,  2,  0,  0,  2,  0,  1,  0,  2,  0,  1,  0,  1,\n",
       "       -1,  2,  2,  4,  2,  2,  1,  1,  0,  4,  0,  2, -1, -1, -1,  2,  4,\n",
       "        1,  2,  2,  0,  2,  1,  1, -1,  0,  2,  0,  0,  2,  0,  0,  0,  1,\n",
       "        2,  2,  0,  0,  0,  1,  2,  1,  1,  1,  1,  4,  1,  1,  1,  0,  0,\n",
       "        1,  1,  0,  4,  1,  2,  4,  2, -1,  1,  1,  1], dtype=int64)"
      ]
     },
     "execution_count": 204,
     "metadata": {},
     "output_type": "execute_result"
    }
   ],
   "source": [
    "from sklearn.cluster import DBSCAN\n",
    "\n",
    "dbscan = DBSCAN(eps=0.3,min_samples=10)\n",
    "\n",
    "y_cluster_abs = dbscan.fit_predict(X)\n",
    "\n",
    "y_cluster_abs"
   ]
  },
  {
   "cell_type": "code",
   "execution_count": 205,
   "metadata": {},
   "outputs": [
    {
     "data": {
      "text/plain": [
       "{-1, 0, 1, 2, 3, 4}"
      ]
     },
     "execution_count": 205,
     "metadata": {},
     "output_type": "execute_result"
    }
   ],
   "source": [
    "# number of uniq cluster\n",
    "set(y_cluster_abs)"
   ]
  },
  {
   "cell_type": "code",
   "execution_count": 207,
   "metadata": {},
   "outputs": [
    {
     "data": {
      "text/plain": [
       "<matplotlib.collections.PathCollection at 0x2735c789088>"
      ]
     },
     "execution_count": 207,
     "metadata": {},
     "output_type": "execute_result"
    },
    {
     "data": {
      "image/png": "[encoded data removed]",
      "text/plain": [
       "<Figure size 432x288 with 1 Axes>"
      ]
     },
     "metadata": {
      "needs_background": "light"
     },
     "output_type": "display_data"
    }
   ],
   "source": [
    "\n",
    "# Non Spherical Data\n",
    "plt.scatter(X[:,0],X[:,1],c=y_cluster_abs)"
   ]
  },
  {
   "cell_type": "code",
   "execution_count": 209,
   "metadata": {},
   "outputs": [
    {
     "data": {
      "text/plain": [
       "5"
      ]
     },
     "execution_count": 209,
     "metadata": {},
     "output_type": "execute_result"
    }
   ],
   "source": [
    "# number of cluster\n",
    "label = dbscan.labels_\n",
    "n_clusters_ = len(set(label))-(1 if -1 in label else 0)\n",
    "\n",
    "n_clusters_"
   ]
  },
  {
   "cell_type": "code",
   "execution_count": 210,
   "metadata": {},
   "outputs": [
    {
     "data": {
      "text/plain": [
       "30"
      ]
     },
     "execution_count": 210,
     "metadata": {},
     "output_type": "execute_result"
    }
   ],
   "source": [
    "n_noise = list(dbscan.labels_).count(-1)\n",
    "n_noise"
   ]
  },
  {
   "cell_type": "markdown",
   "metadata": {},
   "source": [
    "\n",
    "### Clustering using BIRCH\n",
    "\n",
    "+ BIRCH stands for Balanced Iterative Reducing and Clustering using Hierarchies\n",
    "+ It is a hierarchical clustering algorithm. \n",
    "+ It provides a memory-efficient clustering method for large datasets.\n",
    "+ Very good for large dataset\n",
    "+ Clustering is conducted without scanning all points in a dataset. \n",
    "+ The BIRCH algorithm creates Clustering Features (CF) Tree for a given dataset and CF contains the number of sub-clusters that holds only a necessary part of the data. Thus the method does not require to memorize the entire dataset.\n",
    "\n",
    "\n",
    "#### Terms\n",
    "+  branching_factor: it defines the number of sub-clusters and \n",
    "+ threshold: it sets the limit between the sample and sub-cluster.\n",
    "\n",
    "\n",
    "#### Benefit\n",
    "+ Useful for large dataset\n",
    "+ BIRCH can work with any given amount of memory, and the I/O complexity is a little more than one scan of data."
   ]
  },
  {
   "cell_type": "code",
   "execution_count": 211,
   "metadata": {},
   "outputs": [],
   "source": [
    "from sklearn.cluster import Birch"
   ]
  },
  {
   "cell_type": "code",
   "execution_count": 213,
   "metadata": {},
   "outputs": [
    {
     "data": {
      "text/plain": [
       "Birch(branching_factor=100, compute_labels=True, copy=True, n_clusters=4,\n",
       "      threshold=0.5)"
      ]
     },
     "execution_count": 213,
     "metadata": {},
     "output_type": "execute_result"
    }
   ],
   "source": [
    "brich_model = Birch(branching_factor=100,threshold=0.5,n_clusters=4)\n",
    "brich_model.fit(df)"
   ]
  },
  {
   "cell_type": "code",
   "execution_count": 215,
   "metadata": {
    "collapsed": true
   },
   "outputs": [
    {
     "data": {
      "text/plain": [
       "array([ 0,  0,  0,  0,  1,  4,  0,  1,  1,  1, -1,  2,  2,  2,  0,  3,  0,\n",
       "        1,  1,  3,  2,  3,  0,  1, -1,  4, -1,  0,  1,  0,  0,  0,  1,  0,\n",
       "        2,  0,  1,  0,  2,  2,  0,  1,  4,  0,  0,  4,  3,  4,  2,  0,  1,\n",
       "        2,  4,  1,  0,  1,  2,  1,  1,  1,  1,  1,  1,  0,  0,  0,  1, -1,\n",
       "        4,  0,  0,  2,  1,  1,  2,  0,  2,  0,  0,  4,  0, -1,  0,  1,  1,\n",
       "        2,  2,  0,  0,  0,  0,  0,  4,  1,  0,  4,  2,  0,  0,  2,  2,  4,\n",
       "        2,  4,  2,  1, -1,  2,  2,  0,  1,  2,  0,  2,  2,  2,  0,  2, -1,\n",
       "        1,  2,  1,  1,  1,  2,  3,  0,  1,  0,  0,  2,  0,  2,  0,  4,  1,\n",
       "       -1,  4,  0,  2,  1,  0,  0,  4,  0,  4,  0, -1,  0,  1,  0,  2,  1,\n",
       "        0,  1,  3,  2,  0,  1,  0,  2,  1,  0,  2, -1,  2,  1,  0,  2,  0,\n",
       "        1,  0,  2,  0,  1,  0,  0,  1,  1,  1,  0,  0,  2,  4,  4,  1,  2,\n",
       "        0,  0,  0,  2,  1,  0,  0,  0,  1, -1,  2,  1,  1,  1,  2,  0,  2,\n",
       "        0,  2,  0,  1,  4,  0,  1,  1, -1,  1,  0,  1,  2,  4,  2,  1,  0,\n",
       "        0,  2,  1,  2,  4,  2,  0,  0,  1,  0,  0,  1,  0,  0,  0, -1,  0,\n",
       "        2,  2,  4,  0,  0,  0, -1,  0,  2,  1,  4, -1,  4,  1,  0,  2,  1,\n",
       "       -1,  2,  2,  0,  0,  3,  0,  0,  1,  0,  1,  2,  4,  0,  2,  1,  0,\n",
       "        1,  1,  2,  0,  1,  1,  0,  0,  1,  2,  2,  3,  2,  1,  1, -1, -1,\n",
       "        1, -1,  4,  0,  2,  2,  0,  2,  1,  1,  2,  0,  2,  1,  0,  2,  4,\n",
       "        0,  1,  2,  2,  1,  3, -1,  0,  1,  2,  0,  0,  1,  2,  1,  2,  1,\n",
       "        2,  1,  1,  2,  1,  2,  0,  2,  0,  0,  2,  2,  1,  1, -1,  4,  2,\n",
       "        1,  4,  1,  3,  0,  0,  0,  1,  1,  2,  2,  3,  2, -1,  0,  2,  4,\n",
       "        1,  0,  1,  4,  0,  1,  1,  0,  1,  2,  0,  3,  2,  2,  0,  1,  1,\n",
       "        1,  1,  1,  2,  2,  1,  0,  2,  0,  3,  1,  1,  0,  1,  1,  0,  1,\n",
       "        1,  2,  1,  0,  2,  4,  2,  0,  1,  2,  0,  0,  0,  1,  2,  4,  2,\n",
       "        0,  2,  0,  0,  4,  2,  3,  4,  2,  2,  1,  0,  1,  2, -1,  2,  0,\n",
       "        0,  1, -1,  2,  1,  2,  0,  0,  2,  0,  1,  0,  2,  0,  1,  0,  1,\n",
       "       -1,  2,  2,  4,  2,  2,  1,  1,  0,  4,  0,  2, -1, -1, -1,  2,  4,\n",
       "        1,  2,  2,  0,  2,  1,  1, -1,  0,  2,  0,  0,  2,  0,  0,  0,  1,\n",
       "        2,  2,  0,  0,  0,  1,  2,  1,  1,  1,  1,  4,  1,  1,  1,  0,  0,\n",
       "        1,  1,  0,  4,  1,  2,  4,  2, -1,  1,  1,  1], dtype=int64)"
      ]
     },
     "execution_count": 215,
     "metadata": {},
     "output_type": "execute_result"
    }
   ],
   "source": [
    "y_cluss_brich = birch_model.predict(df)\n",
    "\n",
    "y_cluster_abs"
   ]
  },
  {
   "cell_type": "code",
   "execution_count": 216,
   "metadata": {},
   "outputs": [
    {
     "data": {
      "text/plain": [
       "<matplotlib.collections.PathCollection at 0x2735cada848>"
      ]
     },
     "execution_count": 216,
     "metadata": {},
     "output_type": "execute_result"
    },
    {
     "data": {
      "image/png": "[encoded data removed]",
      "text/plain": [
       "<Figure size 432x288 with 1 Axes>"
      ]
     },
     "metadata": {
      "needs_background": "light"
     },
     "output_type": "display_data"
    }
   ],
   "source": [
    "plt.scatter(df['Age'],df['Income'],c=birch_model.labels_)"
   ]
  },
  {
   "cell_type": "code",
   "execution_count": 224,
   "metadata": {},
   "outputs": [
    {
     "data": {
      "text/plain": [
       "4"
      ]
     },
     "execution_count": 224,
     "metadata": {},
     "output_type": "execute_result"
    }
   ],
   "source": [
    "\n",
    "\n",
    "labels1 = birch_model.labels_\n",
    "n_clusters_1= len(set(labels)) - (1 if -1 in labels else 0)\n",
    "\n",
    "n_clusters_1"
   ]
  },
  {
   "cell_type": "code",
   "execution_count": 226,
   "metadata": {},
   "outputs": [
    {
     "data": {
      "text/plain": [
       "0"
      ]
     },
     "execution_count": 226,
     "metadata": {},
     "output_type": "execute_result"
    }
   ],
   "source": [
    "# Identify Noise\n",
    "n_noise1 = list(labels1).count(-1)\n",
    "n_noise1"
   ]
  },
  {
   "cell_type": "code",
   "execution_count": 227,
   "metadata": {},
   "outputs": [],
   "source": [
    "# method 3"
   ]
  },
  {
   "cell_type": "markdown",
   "metadata": {},
   "source": [
    "### Clustering using Hierarchical Clustering\n",
    "+ Hierarchical Clustering: the process of building a hierarchy or ordering of clusters till only one cluster is left\n",
    "    \n",
    "#### Types of Hierarchical Clustering\n",
    "+ Additive(Agglomerative) hierarchical clustering\n",
    "    - Agglomerate (merge or join)\n",
    "    - Assign each point to a cluster\n",
    "    - Merge/Join closes pairs of clusters into one\n",
    "    - Repeat until you have a single cluster\n",
    "    - You keep on adding or joining clusters \n",
    "\n",
    "+ Divisive hierarchical clustering\n",
    "    - Opposite of Additive\n",
    "    - Start with a single large cluster\n",
    "    - Divide/Split the farthest point in the cluster\n",
    "    - Repeat until each cluster only contains a single data point\n",
    "    \n",
    "    \n",
    "#### Terms\n",
    "+ Similarity Distance\n",
    "+ Proximity Matrix: it stores the distances between each point\n",
    "+ Dendogram: used to find the number of clusters\n",
    "    - A dendrogram is a tree-like diagram that records the sequences of merges or splits.\n",
    "    - The number of clusters will be the number of vertical lines which are being intersected by the line drawn using the threshold."
   ]
  },
  {
   "cell_type": "markdown",
   "metadata": {},
   "source": [
    "#### Agglomerative Hierarchical Clustering\n",
    "+ Merging clusters\n",
    "+ Dendogram to detect n_clusters to use and end at"
   ]
  },
  {
   "cell_type": "code",
   "execution_count": 228,
   "metadata": {},
   "outputs": [
    {
     "data": {
      "text/html": [
       "<div>\n",
       "<style scoped>\n",
       "    .dataframe tbody tr th:only-of-type {\n",
       "        vertical-align: middle;\n",
       "    }\n",
       "\n",
       "    .dataframe tbody tr th {\n",
       "        vertical-align: top;\n",
       "    }\n",
       "\n",
       "    .dataframe thead th {\n",
       "        text-align: right;\n",
       "    }\n",
       "</style>\n",
       "<table border=\"1\" class=\"dataframe\">\n",
       "  <thead>\n",
       "    <tr style=\"text-align: right;\">\n",
       "      <th></th>\n",
       "      <th>Age</th>\n",
       "      <th>Income</th>\n",
       "      <th>SpendingScore</th>\n",
       "      <th>Savings</th>\n",
       "    </tr>\n",
       "  </thead>\n",
       "  <tbody>\n",
       "    <tr>\n",
       "      <th>0</th>\n",
       "      <td>58</td>\n",
       "      <td>77769</td>\n",
       "      <td>0.791329</td>\n",
       "      <td>6559.829923</td>\n",
       "    </tr>\n",
       "    <tr>\n",
       "      <th>1</th>\n",
       "      <td>59</td>\n",
       "      <td>81799</td>\n",
       "      <td>0.791082</td>\n",
       "      <td>5417.661426</td>\n",
       "    </tr>\n",
       "    <tr>\n",
       "      <th>2</th>\n",
       "      <td>62</td>\n",
       "      <td>74751</td>\n",
       "      <td>0.702657</td>\n",
       "      <td>9258.992965</td>\n",
       "    </tr>\n",
       "    <tr>\n",
       "      <th>3</th>\n",
       "      <td>59</td>\n",
       "      <td>74373</td>\n",
       "      <td>0.765680</td>\n",
       "      <td>7346.334504</td>\n",
       "    </tr>\n",
       "    <tr>\n",
       "      <th>4</th>\n",
       "      <td>87</td>\n",
       "      <td>17760</td>\n",
       "      <td>0.348778</td>\n",
       "      <td>16869.507130</td>\n",
       "    </tr>\n",
       "  </tbody>\n",
       "</table>\n",
       "</div>"
      ],
      "text/plain": [
       "   Age  Income  SpendingScore       Savings\n",
       "0   58   77769       0.791329   6559.829923\n",
       "1   59   81799       0.791082   5417.661426\n",
       "2   62   74751       0.702657   9258.992965\n",
       "3   59   74373       0.765680   7346.334504\n",
       "4   87   17760       0.348778  16869.507130"
      ]
     },
     "execution_count": 228,
     "metadata": {},
     "output_type": "execute_result"
    }
   ],
   "source": [
    "df.head()"
   ]
  },
  {
   "cell_type": "code",
   "execution_count": 229,
   "metadata": {},
   "outputs": [],
   "source": [
    "# normallzation \n",
    "from sklearn.preprocessing import normalize"
   ]
  },
  {
   "cell_type": "code",
   "execution_count": 230,
   "metadata": {},
   "outputs": [
    {
     "data": {
      "text/html": [
       "<div>\n",
       "<style scoped>\n",
       "    .dataframe tbody tr th:only-of-type {\n",
       "        vertical-align: middle;\n",
       "    }\n",
       "\n",
       "    .dataframe tbody tr th {\n",
       "        vertical-align: top;\n",
       "    }\n",
       "\n",
       "    .dataframe thead th {\n",
       "        text-align: right;\n",
       "    }\n",
       "</style>\n",
       "<table border=\"1\" class=\"dataframe\">\n",
       "  <thead>\n",
       "    <tr style=\"text-align: right;\">\n",
       "      <th></th>\n",
       "      <th>Age</th>\n",
       "      <th>Income</th>\n",
       "      <th>SpendingScore</th>\n",
       "      <th>Savings</th>\n",
       "    </tr>\n",
       "  </thead>\n",
       "  <tbody>\n",
       "    <tr>\n",
       "      <th>0</th>\n",
       "      <td>0.000743</td>\n",
       "      <td>0.996461</td>\n",
       "      <td>0.000010</td>\n",
       "      <td>0.084052</td>\n",
       "    </tr>\n",
       "    <tr>\n",
       "      <th>1</th>\n",
       "      <td>0.000720</td>\n",
       "      <td>0.997814</td>\n",
       "      <td>0.000010</td>\n",
       "      <td>0.066087</td>\n",
       "    </tr>\n",
       "    <tr>\n",
       "      <th>2</th>\n",
       "      <td>0.000823</td>\n",
       "      <td>0.992416</td>\n",
       "      <td>0.000009</td>\n",
       "      <td>0.122925</td>\n",
       "    </tr>\n",
       "    <tr>\n",
       "      <th>3</th>\n",
       "      <td>0.000789</td>\n",
       "      <td>0.995157</td>\n",
       "      <td>0.000010</td>\n",
       "      <td>0.098298</td>\n",
       "    </tr>\n",
       "    <tr>\n",
       "      <th>4</th>\n",
       "      <td>0.003552</td>\n",
       "      <td>0.725046</td>\n",
       "      <td>0.000014</td>\n",
       "      <td>0.688692</td>\n",
       "    </tr>\n",
       "    <tr>\n",
       "      <th>...</th>\n",
       "      <td>...</td>\n",
       "      <td>...</td>\n",
       "      <td>...</td>\n",
       "      <td>...</td>\n",
       "    </tr>\n",
       "    <tr>\n",
       "      <th>500</th>\n",
       "      <td>0.000274</td>\n",
       "      <td>0.989284</td>\n",
       "      <td>0.000004</td>\n",
       "      <td>0.146006</td>\n",
       "    </tr>\n",
       "    <tr>\n",
       "      <th>501</th>\n",
       "      <td>0.003465</td>\n",
       "      <td>0.742750</td>\n",
       "      <td>0.000008</td>\n",
       "      <td>0.669559</td>\n",
       "    </tr>\n",
       "    <tr>\n",
       "      <th>502</th>\n",
       "      <td>0.002320</td>\n",
       "      <td>0.909904</td>\n",
       "      <td>0.000009</td>\n",
       "      <td>0.414812</td>\n",
       "    </tr>\n",
       "    <tr>\n",
       "      <th>503</th>\n",
       "      <td>0.003287</td>\n",
       "      <td>0.747083</td>\n",
       "      <td>0.000013</td>\n",
       "      <td>0.664723</td>\n",
       "    </tr>\n",
       "    <tr>\n",
       "      <th>504</th>\n",
       "      <td>0.002656</td>\n",
       "      <td>0.903164</td>\n",
       "      <td>0.000009</td>\n",
       "      <td>0.429287</td>\n",
       "    </tr>\n",
       "  </tbody>\n",
       "</table>\n",
       "<p>505 rows × 4 columns</p>\n",
       "</div>"
      ],
      "text/plain": [
       "          Age    Income  SpendingScore   Savings\n",
       "0    0.000743  0.996461       0.000010  0.084052\n",
       "1    0.000720  0.997814       0.000010  0.066087\n",
       "2    0.000823  0.992416       0.000009  0.122925\n",
       "3    0.000789  0.995157       0.000010  0.098298\n",
       "4    0.003552  0.725046       0.000014  0.688692\n",
       "..        ...       ...            ...       ...\n",
       "500  0.000274  0.989284       0.000004  0.146006\n",
       "501  0.003465  0.742750       0.000008  0.669559\n",
       "502  0.002320  0.909904       0.000009  0.414812\n",
       "503  0.003287  0.747083       0.000013  0.664723\n",
       "504  0.002656  0.903164       0.000009  0.429287\n",
       "\n",
       "[505 rows x 4 columns]"
      ]
     },
     "execution_count": 230,
     "metadata": {},
     "output_type": "execute_result"
    }
   ],
   "source": [
    "# scale / normal\n",
    "\n",
    "df_scaled = normalize(df)\n",
    "\n",
    "df_scaled = pd.DataFrame(df_scaled,columns=df.columns)\n",
    "\n",
    "df_scaled"
   ]
  },
  {
   "cell_type": "code",
   "execution_count": 231,
   "metadata": {},
   "outputs": [
    {
     "data": {
      "image/png": "[encoded data removed]",
      "text/plain": [
       "<Figure size 720x504 with 1 Axes>"
      ]
     },
     "metadata": {
      "needs_background": "light"
     },
     "output_type": "display_data"
    }
   ],
   "source": [
    "import scipy.cluster.hierarchy as shc\n",
    "\n",
    "\n",
    "plt.figure(figsize=(10,7))\n",
    "plt.title(\"Dendogram of UML\")\n",
    "dend = shc.dendrogram(shc.linkage(df_scaled,method='ward'))"
   ]
  },
  {
   "cell_type": "code",
   "execution_count": 233,
   "metadata": {},
   "outputs": [
    {
     "data": {
      "text/plain": [
       "<matplotlib.lines.Line2D at 0x2735dd53a48>"
      ]
     },
     "execution_count": 233,
     "metadata": {},
     "output_type": "execute_result"
    },
    {
     "data": {
      "image/png": "[encoded data removed]",
      "text/plain": [
       "<Figure size 720x504 with 1 Axes>"
      ]
     },
     "metadata": {
      "needs_background": "light"
     },
     "output_type": "display_data"
    }
   ],
   "source": [
    "plt.figure(figsize=(10,7))\n",
    "plt.title(\"Dendogram of UML\")\n",
    "dend = shc.dendrogram(shc.linkage(df_scaled,method='ward'))\n",
    "plt.axhline(y=2,color='pink',linestyle='--')"
   ]
  },
  {
   "cell_type": "code",
   "execution_count": 235,
   "metadata": {},
   "outputs": [],
   "source": [
    "# model buliding\n",
    "\n",
    "from sklearn.cluster import AgglomerativeClustering"
   ]
  },
  {
   "cell_type": "code",
   "execution_count": 236,
   "metadata": {},
   "outputs": [],
   "source": [
    "hcluster = AgglomerativeClustering(n_clusters=2,affinity='euclidean',linkage='ward')"
   ]
  },
  {
   "cell_type": "code",
   "execution_count": 237,
   "metadata": {},
   "outputs": [],
   "source": [
    "Y_clust_hcl = hcluster.fit_predict(df_scaled)"
   ]
  },
  {
   "cell_type": "code",
   "execution_count": 238,
   "metadata": {},
   "outputs": [
    {
     "data": {
      "text/plain": [
       "array([1, 1, 1, 1, 0, 1, 1, 0, 0, 0, 1, 1, 1, 1, 1, 1, 1, 0, 0, 1, 1, 1,\n",
       "       1, 0, 1, 1, 1, 1, 0, 1, 1, 1, 0, 1, 1, 1, 0, 1, 1, 1, 1, 0, 1, 1,\n",
       "       1, 1, 1, 1, 1, 1, 0, 1, 1, 0, 1, 0, 1, 0, 0, 0, 0, 0, 0, 1, 1, 1,\n",
       "       0, 1, 1, 1, 1, 1, 0, 0, 1, 1, 1, 1, 1, 1, 1, 1, 1, 0, 0, 1, 1, 1,\n",
       "       1, 1, 1, 1, 1, 0, 1, 1, 1, 1, 1, 1, 1, 1, 1, 1, 1, 0, 0, 1, 1, 1,\n",
       "       0, 1, 1, 1, 1, 1, 1, 1, 1, 0, 1, 0, 0, 0, 1, 1, 1, 0, 1, 1, 1, 1,\n",
       "       1, 1, 1, 0, 1, 1, 1, 1, 0, 1, 1, 1, 1, 1, 1, 1, 1, 0, 1, 1, 0, 1,\n",
       "       0, 1, 1, 1, 0, 1, 1, 0, 1, 1, 0, 1, 0, 1, 1, 1, 0, 1, 1, 1, 0, 1,\n",
       "       1, 0, 0, 0, 1, 1, 1, 1, 1, 0, 1, 1, 1, 1, 1, 0, 1, 1, 1, 0, 1, 1,\n",
       "       0, 0, 0, 1, 1, 1, 1, 1, 1, 0, 1, 1, 0, 0, 0, 0, 1, 0, 1, 1, 1, 0,\n",
       "       1, 1, 1, 0, 1, 1, 1, 1, 1, 0, 1, 1, 0, 1, 1, 1, 1, 1, 1, 1, 1, 1,\n",
       "       1, 1, 1, 1, 1, 0, 1, 1, 1, 0, 1, 1, 0, 0, 1, 1, 1, 1, 1, 1, 1, 0,\n",
       "       1, 0, 1, 1, 1, 1, 0, 1, 0, 0, 1, 1, 0, 0, 1, 1, 0, 1, 1, 1, 1, 0,\n",
       "       0, 1, 1, 0, 0, 1, 1, 1, 1, 1, 1, 0, 0, 1, 1, 1, 0, 1, 1, 1, 1, 0,\n",
       "       1, 1, 0, 1, 1, 1, 0, 1, 1, 1, 0, 1, 0, 1, 0, 1, 0, 0, 1, 0, 1, 1,\n",
       "       1, 1, 1, 1, 1, 0, 0, 1, 1, 1, 0, 1, 0, 1, 1, 1, 1, 0, 0, 1, 1, 1,\n",
       "       1, 1, 1, 1, 1, 0, 1, 0, 1, 1, 0, 0, 1, 0, 1, 1, 1, 1, 1, 1, 0, 0,\n",
       "       0, 0, 0, 1, 1, 0, 1, 1, 1, 1, 0, 0, 1, 0, 0, 1, 0, 0, 1, 0, 1, 1,\n",
       "       1, 1, 1, 0, 1, 1, 1, 1, 0, 1, 1, 1, 1, 1, 1, 1, 1, 1, 1, 1, 1, 1,\n",
       "       0, 1, 0, 1, 0, 1, 1, 1, 0, 1, 1, 0, 1, 1, 1, 1, 1, 0, 1, 1, 1, 0,\n",
       "       1, 0, 1, 1, 1, 1, 1, 1, 0, 0, 1, 1, 1, 1, 1, 1, 1, 1, 1, 0, 1, 1,\n",
       "       1, 1, 0, 0, 1, 1, 1, 1, 1, 1, 1, 1, 1, 0, 1, 1, 1, 1, 1, 0, 1, 0,\n",
       "       0, 0, 0, 1, 0, 0, 0, 1, 1, 0, 0, 1, 1, 0, 1, 1, 1, 0, 0, 0, 0],\n",
       "      dtype=int64)"
      ]
     },
     "execution_count": 238,
     "metadata": {},
     "output_type": "execute_result"
    }
   ],
   "source": [
    "Y_clust_hcl"
   ]
  },
  {
   "cell_type": "code",
   "execution_count": 240,
   "metadata": {},
   "outputs": [
    {
     "data": {
      "text/plain": [
       "<matplotlib.collections.PathCollection at 0x2735da28308>"
      ]
     },
     "execution_count": 240,
     "metadata": {},
     "output_type": "execute_result"
    },
    {
     "data": {
      "image/png": "[encoded data removed]",
      "text/plain": [
       "<Figure size 720x504 with 1 Axes>"
      ]
     },
     "metadata": {
      "needs_background": "light"
     },
     "output_type": "display_data"
    }
   ],
   "source": [
    "df_scaled['clusters'] = Y_clust_hcl\n",
    "# Plot\n",
    "plt.figure(figsize=(10,7))\n",
    "plt.scatter(df_scaled['Age'],df_scaled['Savings'],c=df_scaled['clusters'])\n"
   ]
  },
  {
   "cell_type": "code",
   "execution_count": null,
   "metadata": {},
   "outputs": [],
   "source": []
  }
 ],
 "metadata": {
  "kernelspec": {
   "display_name": "Python 3",
   "language": "python",
   "name": "python3"
  },
  "language_info": {
   "codemirror_mode": {
    "name": "ipython",
    "version": 3
   },
   "file_extension": ".py",
   "mimetype": "text/x-python",
   "name": "python",
   "nbconvert_exporter": "python",
   "pygments_lexer": "ipython3",
   "version": "3.7.6"
  }
 },
 "nbformat": 4,
 "nbformat_minor": 4
}
